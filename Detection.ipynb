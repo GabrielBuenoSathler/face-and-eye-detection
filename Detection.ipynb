{
 "cells": [
  {
   "cell_type": "code",
   "execution_count": 4,
   "metadata": {},
   "outputs": [],
   "source": [
    "import cv2;\n",
    "\n",
    "face_cascade = cv2.CascadeClassifier('haarcascade_frontalface_default.xml');\n",
    "eyes_cascade =  cv2.CascadeClassifier('haarcascade_eye.xml');\n",
    "video = cv2.VideoCapture(0);\n",
    "\n",
    "while True:\n",
    "    check, frame = video.read();\n",
    "    faces = face_cascade.detectMultiScale(frame,\n",
    "                                          scaleFactor=1.1, minNeighbors=5);\n",
    "    \n",
    "    eyes = eyes_cascade.detectMultiScale(frame,\n",
    "                                          scaleFactor=1.1, minNeighbors=5);\n",
    "    for x,y,w,h in faces:\n",
    "        frame = cv2.rectangle(frame, (x,y), (x+w,y+h), (0,255,0), 3);\n",
    "    for a,s,f,d in eyes:\n",
    "        frame = frame = cv2.rectangle(frame, (a,s), (a+f,s+d), (0,255,0), 3);\n",
    "\n",
    "    cv2.imshow('Face Detector', frame);\n",
    "\n",
    "    if cv2.waitKey(1) & 0xFF == ord('q'):\n",
    "        break\n",
    "\n",
    "video.release();\n",
    "cv2.destroyAllWindows();"
   ]
  },
  {
   "cell_type": "code",
   "execution_count": null,
   "metadata": {},
   "outputs": [],
   "source": []
  },
  {
   "cell_type": "code",
   "execution_count": null,
   "metadata": {},
   "outputs": [],
   "source": []
  }
 ],
 "metadata": {
  "kernelspec": {
   "display_name": "Python 3",
   "language": "python",
   "name": "python3"
  },
  "language_info": {
   "codemirror_mode": {
    "name": "ipython",
    "version": 3
   },
   "file_extension": ".py",
   "mimetype": "text/x-python",
   "name": "python",
   "nbconvert_exporter": "python",
   "pygments_lexer": "ipython3",
   "version": "3.8.5"
  }
 },
 "nbformat": 4,
 "nbformat_minor": 4
}
